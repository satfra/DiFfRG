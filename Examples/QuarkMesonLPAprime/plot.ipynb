{
 "cells": [
  {
   "cell_type": "code",
   "execution_count": null,
   "metadata": {},
   "outputs": [],
   "source": [
    "pip install https://github.com/satfra/DiFfRG/raw/refs/heads/main/python/dist/DiFfRG-1.0.0-py3-none-any.whl"
   ]
  },
  {
   "cell_type": "code",
   "execution_count": 1,
   "metadata": {},
   "outputs": [],
   "source": [
    "import DiFfRG.phasediagram as pd\n",
    "import DiFfRG.file_io as io\n",
    "import DiFfRG.plot as plt\n",
    "import numpy as np"
   ]
  },
  {
   "cell_type": "code",
   "execution_count": 179,
   "metadata": {},
   "outputs": [],
   "source": [
    "folder = \"./build/\"\n",
    "sim = io.SimulationData1D(folder + 'output')\n",
    "\n",
    "t_range = np.append(np.linspace(0, 1, 4), 4)\n",
    "x = sim.get_x()\n",
    "k = [sim.params['physical']['Lambda'] * np.exp(-t) for t in t_range]\n",
    "u_times = [sim.get_array('u', t=t) for t in t_range]\n",
    "\n",
    "plt.plot_1D(\n",
    "    [\n",
    "        {\n",
    "            \"x\" : np.sqrt(2. * x),\n",
    "            \"y\" : u_times[i],\n",
    "            \"label\": f\"$k = {k[i]:.2f}$ GeV\",\n",
    "            \"color\": plt.palette2[i+1]\n",
    "        } for i in range(len(u_times))\n",
    "    ],\n",
    "    xlabel = r\"$\\sigma$ [GeV]\",\n",
    "    ylabel = r\"$m_\\pi^2$ [GeV$^2$]\",\n",
    "    legend_loc=\"upper left\",\n",
    "    file=\"QM_evolution.pdf\"\n",
    ")"
   ]
  },
  {
   "cell_type": "code",
   "execution_count": 184,
   "metadata": {},
   "outputs": [],
   "source": [
    "csv = sim.get_csv(\"running\")\n",
    "\n",
    "k = csv[\"kGeV\"].to_numpy()\n",
    "ZPhi = csv[\"ZPhi\"].to_numpy()\n",
    "ZQ = csv[\"ZQ\"].to_numpy()\n",
    "hPhi = csv[\"hPhi\"].to_numpy()\n",
    "\n",
    "plt.plot_1D(\n",
    "    [\n",
    "        {\n",
    "            \"x\" : k,\n",
    "            \"y\" : ZPhi,\n",
    "            \"label\": r\"$Z_{\\phi,k}$\",\n",
    "            \"color\": plt.palette1[0]\n",
    "        },\n",
    "        {\n",
    "            \"x\" : k,\n",
    "            \"y\" : ZQ,\n",
    "            \"label\": r\"$Z_{q,k}$\",\n",
    "            \"color\": plt.palette1[1]\n",
    "        },\n",
    "    ],\n",
    "    xlabel = r\"$k$ [GeV]\",\n",
    "    ylabel = r\"\",\n",
    "    legend_loc=\"upper left\",\n",
    "    log_x = True,\n",
    "    ylim = (0.9, 1.5),\n",
    "    file=\"QM_Zs.pdf\"\n",
    ")\n",
    "\n",
    "plt.plot_1D(\n",
    "    [\n",
    "        {\n",
    "            \"x\" : k,\n",
    "            \"y\" : hPhi,\n",
    "            \"label\": r\"$h_{\\phi,k}$\",\n",
    "            \"color\": \"black\"\n",
    "        },\n",
    "    ],\n",
    "    xlabel = r\"$k$ [GeV]\",\n",
    "    ylabel = r\"$h_{\\phi,k}$\",\n",
    "    legend_loc=\"upper right\",\n",
    "    log_x = True,\n",
    "    ylim = (5.5, 7.2),\n",
    "    file=\"QM_hPhi.pdf\"\n",
    ")"
   ]
  }
 ],
 "metadata": {
  "kernelspec": {
   "display_name": ".venv",
   "language": "python",
   "name": "python3"
  },
  "language_info": {
   "codemirror_mode": {
    "name": "ipython",
    "version": 3
   },
   "file_extension": ".py",
   "mimetype": "text/x-python",
   "name": "python",
   "nbconvert_exporter": "python",
   "pygments_lexer": "ipython3",
   "version": "3.12.7"
  }
 },
 "nbformat": 4,
 "nbformat_minor": 2
}
